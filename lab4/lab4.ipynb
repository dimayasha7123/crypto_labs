{
 "cells": [
  {
   "cell_type": "markdown",
   "metadata": {},
   "source": [
    "### Расширенный алгоритм Евклида"
   ]
  },
  {
   "cell_type": "code",
   "execution_count": 1,
   "metadata": {},
   "outputs": [
    {
     "name": "stdout",
     "output_type": "stream",
     "text": [
      "(1, -77, 377887588833)\n"
     ]
    }
   ],
   "source": [
    "def gcdex(a: int, b: int) -> int:\n",
    "    if (a == 0):\n",
    "        return (b, 0, 1)\n",
    "    d, x1, y1 = gcdex(b % a, a)\n",
    "    x = y1 - (b // a) * x1\n",
    "    y = x1\n",
    "    return d, x, y\n",
    "\n",
    "print(gcdex(1334875638475, 272))"
   ]
  },
  {
   "cell_type": "markdown",
   "metadata": {},
   "source": [
    "### Расширенный алгоритм Евклида (с таблицей)"
   ]
  },
  {
   "cell_type": "code",
   "execution_count": 2,
   "metadata": {},
   "outputs": [],
   "source": [
    "import tabulate"
   ]
  },
  {
   "cell_type": "code",
   "execution_count": 3,
   "metadata": {},
   "outputs": [
    {
     "name": "stdout",
     "output_type": "stream",
     "text": [
      "1 -77 377887588833\n",
      "  i              a    x              y  q\n",
      "---  -------------  ---  -------------  ----------\n",
      "  0  1334875638475    1              0  -\n",
      "  1            272    0              1  4907631023\n",
      "  2            219    1    -4907631023  1\n",
      "  3             53   -1     4907631024  4\n",
      "  4              7    5   -24538155119  7\n",
      "  5              4  -36   176674716857  1\n",
      "  6              3   41  -201212871976  1\n",
      "  7              1  -77   377887588833  3\n",
      "  8              0\n"
     ]
    }
   ],
   "source": [
    "def gcdext(a:int, b:int) -> tuple:\n",
    "    table = []\n",
    "    iter = 2\n",
    "    table.append([0, a, 1, 0, \"-\"])\n",
    "    table.append([1, b, 0, 1, a // b])\n",
    "    while(table[len(table)-2][1] % table[len(table)-1][1]!=0):\n",
    "        row = [\" \"] * 5\n",
    "        row[0] = iter\n",
    "        iter += 1\n",
    "        for i in range(1, 4):\n",
    "            row[i] = table[len(table)-2][i] - table[len(table)-1][i] * table[len(table)-1][4]\n",
    "        row[4] = table[len(table)-1][1] // row[1]\n",
    "        table.append(row)\n",
    "    table.append([iter, 0])\n",
    "    return table[len(table)-2][1], table[len(table)-2][2], table[len(table)-2][3], table\n",
    "\n",
    "g, x, y, table = gcdext(1334875638475, 272)\n",
    "print(g, x, y)\n",
    "\n",
    "print(tabulate.tabulate(table, headers=['i', 'a', 'x', 'y', 'q']), )"
   ]
  },
  {
   "cell_type": "markdown",
   "metadata": {},
   "source": [
    "### Поиск мультипликативного обратного"
   ]
  },
  {
   "cell_type": "code",
   "execution_count": 4,
   "metadata": {},
   "outputs": [
    {
     "name": "stdout",
     "output_type": "stream",
     "text": [
      "8\n"
     ]
    }
   ],
   "source": [
    "def inverse_mod(a: int, m: int) -> int | None:\n",
    "    g, x, y = gcdex(a, m)\n",
    "    if (g != 1):\n",
    "        return None\n",
    "    x = (x % m + m) % m\n",
    "    return x\n",
    "\n",
    "print(inverse_mod(155, 413))"
   ]
  },
  {
   "cell_type": "markdown",
   "metadata": {},
   "source": [
    "### Возведение в степень по модулю"
   ]
  },
  {
   "cell_type": "code",
   "execution_count": 5,
   "metadata": {},
   "outputs": [
    {
     "name": "stdout",
     "output_type": "stream",
     "text": [
      "447\n",
      "447\n",
      "3\n",
      "3\n",
      "3108\n",
      "3108\n",
      "84\n",
      "84\n"
     ]
    }
   ],
   "source": [
    "def to_bin(number: int) -> str:\n",
    "    output = bin(number)\n",
    "    return output[2:len(output)]\n",
    "\n",
    "\n",
    "def exp_mod(a: int, k: int, m: int) -> int:\n",
    "    if k == 0:\n",
    "        return 1\n",
    "    binary = to_bin(k)\n",
    "    binary = binary[1:len(binary)]\n",
    "    cur = a\n",
    "    for b in binary:\n",
    "        cur = (cur * cur) % m\n",
    "        if b == '1':\n",
    "            cur = (cur * a) % m\n",
    "    return cur\n",
    "\n",
    "\n",
    "def stupid_exp_mod(a: int, k: int, m: int) -> int:\n",
    "    return (a**k)%m\n",
    "\n",
    "print(stupid_exp_mod(249, 321, 499))\n",
    "print(exp_mod(249, 321, 499))\n",
    "\n",
    "print(stupid_exp_mod(3, 5, 30))\n",
    "print(exp_mod(3, 5, 30))\n",
    "\n",
    "print(stupid_exp_mod(4875, 18442, 9221))\n",
    "print(exp_mod(4875, 18442, 9221))\n",
    "\n",
    "print(stupid_exp_mod(144, 183, 925))\n",
    "print(exp_mod(144, 183, 925))"
   ]
  },
  {
   "cell_type": "code",
   "execution_count": 6,
   "metadata": {},
   "outputs": [
    {
     "name": "stderr",
     "output_type": "stream",
     "text": [
      "test_exp_mod (__main__.TestExpMod) ... ok\n",
      "test_stupid_exp_mod (__main__.TestExpMod) ... "
     ]
    },
    {
     "name": "stdout",
     "output_type": "stream",
     "text": [
      "The time of execution of test_exp_mod is : 6.781101226806641 ms\n"
     ]
    },
    {
     "name": "stderr",
     "output_type": "stream",
     "text": [
      "ok\n",
      "\n",
      "----------------------------------------------------------------------\n",
      "Ran 2 tests in 2.132s\n",
      "\n",
      "OK\n"
     ]
    },
    {
     "name": "stdout",
     "output_type": "stream",
     "text": [
      "The time of execution of test_stupid_exp_mod is : 2122.387409210205 ms\n"
     ]
    },
    {
     "data": {
      "text/plain": [
       "<unittest.main.TestProgram at 0x7f095458fb50>"
      ]
     },
     "execution_count": 6,
     "metadata": {},
     "output_type": "execute_result"
    }
   ],
   "source": [
    "import unittest\n",
    "import time\n",
    "from dataclasses import dataclass\n",
    "\n",
    "class TestExpMod(unittest.TestCase):\n",
    "    def setUp(self):\n",
    "        @dataclass\n",
    "        class TestCase:\n",
    "            name: str\n",
    "            input: list[int]\n",
    "            expected: int\n",
    "\n",
    "        self.testcases = [\n",
    "            TestCase(name=\"test 1\", input=[249, 321, 499], expected=447),\n",
    "            TestCase(name=\"test 2\", input=[3, 5, 30], expected=3),\n",
    "            TestCase(name=\"test 3\", input=[4875, 18442, 9221], expected=3108),\n",
    "            TestCase(name=\"test 4\", input=[144, 183, 925], expected=84),\n",
    "        ]\n",
    "        self.count = 1000\n",
    "\n",
    "\n",
    "    def test_exp_mod(self):\n",
    "        start = time.time()\n",
    "        \n",
    "        for i in range(self.count):\n",
    "            for t in self.testcases:\n",
    "                actual = exp_mod(*t.input)\n",
    "                self.assertEqual(t.expected, actual, f'failed test {t.name} expected {t.expected}, actual {actual}')\n",
    "\n",
    "\n",
    "        end = time.time()\n",
    "        print(\"The time of execution of test_exp_mod is :\",\n",
    "            (end-start) * 10**3, \"ms\")\n",
    "\n",
    "           \n",
    "\n",
    "    def test_stupid_exp_mod(self):\n",
    "        start = time.time()\n",
    "        \n",
    "        for i in range(self.count):\n",
    "            for t in self.testcases:\n",
    "                actual = stupid_exp_mod(*t.input)\n",
    "                self.assertEqual(t.expected, actual, f'failed test {t.name} expected {t.expected}, actual {actual}')\n",
    "\n",
    "\n",
    "        end = time.time()\n",
    "        print(\"The time of execution of test_stupid_exp_mod is :\",\n",
    "            (end-start) * 10**3, \"ms\")\n",
    "\n",
    "\n",
    "unittest.main(argv=[''], verbosity=2, exit=False)"
   ]
  },
  {
   "cell_type": "markdown",
   "metadata": {},
   "source": [
    "### Решение сравнений вида ax=b(mod m)"
   ]
  },
  {
   "cell_type": "code",
   "execution_count": 7,
   "metadata": {},
   "outputs": [
    {
     "name": "stdout",
     "output_type": "stream",
     "text": [
      "[79]\n",
      "[9, 28, 47, 66, 85, 104, 123, 142, 161, 180, 199, 218, 237, 256, 275, 294, 313, 332]\n",
      "[13]\n",
      "None\n"
     ]
    }
   ],
   "source": [
    "def compare(a, b, m: int) -> None | list[int]:\n",
    "    d, u, _ = gcdex(a, m)\n",
    "    \n",
    "    if b % d != 0:\n",
    "        return None\n",
    "    \n",
    "    if d == 1:\n",
    "        u = (u % m + m) % m\n",
    "        x = (b * u) % m\n",
    "        return [x]\n",
    "    \n",
    "    a1 = a // d\n",
    "    b1 = b // d\n",
    "    m2 = m // d\n",
    "    \n",
    "    x = compare(a1, b1, m2)[0]\n",
    "    \n",
    "    out = list()\n",
    "    for i in range(0, d):\n",
    "        out.append((x + m2 * i) % m)\n",
    "    \n",
    "    return out\n",
    "\n",
    "print(compare(111, 75, 322))\n",
    "print(compare(270, 36, 342))\n",
    "print(compare(31, 1, 67))\n",
    "print(compare(459, 15, 4104))"
   ]
  },
  {
   "cell_type": "code",
   "execution_count": 8,
   "metadata": {},
   "outputs": [],
   "source": [
    "def gen_password(n: int):\n",
    "    pass"
   ]
  }
 ],
 "metadata": {
  "kernelspec": {
   "display_name": "Python 3.10.6 64-bit",
   "language": "python",
   "name": "python3"
  },
  "language_info": {
   "codemirror_mode": {
    "name": "ipython",
    "version": 3
   },
   "file_extension": ".py",
   "mimetype": "text/x-python",
   "name": "python",
   "nbconvert_exporter": "python",
   "pygments_lexer": "ipython3",
   "version": "3.10.6"
  },
  "orig_nbformat": 4,
  "vscode": {
   "interpreter": {
    "hash": "e7370f93d1d0cde622a1f8e1c04877d8463912d04d973331ad4851f04de6915a"
   }
  }
 },
 "nbformat": 4,
 "nbformat_minor": 2
}
