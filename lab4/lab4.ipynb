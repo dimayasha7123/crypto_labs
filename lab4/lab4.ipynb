{
 "cells": [
  {
   "cell_type": "code",
   "execution_count": 14,
   "metadata": {},
   "outputs": [
    {
     "name": "stdout",
     "output_type": "stream",
     "text": [
      "(1, -77, 377887588833)\n"
     ]
    }
   ],
   "source": [
    "def gcdex(a, b, x=0, y=0):\n",
    "    if (a == 0):\n",
    "        return (b, 0, 1)\n",
    "    d, x1, y1 = gcdex(b % a, a, 0, 0)\n",
    "    x = y1 - (b // a) * x1\n",
    "    y = x1\n",
    "    return d, x, y\n",
    "\n",
    "print(gcdex(1334875638475, 272))"
   ]
  },
  {
   "cell_type": "code",
   "execution_count": 8,
   "metadata": {},
   "outputs": [],
   "source": [
    "import tabulate"
   ]
  },
  {
   "cell_type": "code",
   "execution_count": 15,
   "metadata": {},
   "outputs": [
    {
     "name": "stdout",
     "output_type": "stream",
     "text": [
      "1 -77 377887588833\n",
      "  i              a    x              y  q\n",
      "---  -------------  ---  -------------  ----------\n",
      "  0  1334875638475    1              0  -\n",
      "  1            272    0              1  4907631023\n",
      "  2            219    1    -4907631023  1\n",
      "  3             53   -1     4907631024  4\n",
      "  4              7    5   -24538155119  7\n",
      "  5              4  -36   176674716857  1\n",
      "  6              3   41  -201212871976  1\n",
      "  7              1  -77   377887588833  3\n",
      "  8              0\n"
     ]
    }
   ],
   "source": [
    "from time import sleep\n",
    "\n",
    "\n",
    "def gcdext(a, b):\n",
    "    table = []\n",
    "    iter = 2\n",
    "    table.append([0, a, 1, 0, \"-\"])\n",
    "    table.append([1, b, 0, 1, a // b])\n",
    "    while(table[len(table)-2][1] % table[len(table)-1][1]!=0):\n",
    "        row = [\" \"] * 5\n",
    "        row[0] = iter\n",
    "        iter += 1\n",
    "        for i in range(1, 4):\n",
    "            row[i] = table[len(table)-2][i] - table[len(table)-1][i] * table[len(table)-1][4]\n",
    "        row[4] = table[len(table)-1][1] // row[1]\n",
    "        table.append(row)\n",
    "    table.append([iter, 0])\n",
    "    return table[len(table)-2][1], table[len(table)-2][2], table[len(table)-2][3], table\n",
    "\n",
    "g, x, y, table = gcdext(1334875638475, 272)\n",
    "print(g, x, y)\n",
    "\n",
    "print(tabulate.tabulate(table, headers=['i', 'a', 'x', 'y', 'q']), )"
   ]
  }
 ],
 "metadata": {
  "kernelspec": {
   "display_name": "Python 3.10.4 64-bit",
   "language": "python",
   "name": "python3"
  },
  "language_info": {
   "codemirror_mode": {
    "name": "ipython",
    "version": 3
   },
   "file_extension": ".py",
   "mimetype": "text/x-python",
   "name": "python",
   "nbconvert_exporter": "python",
   "pygments_lexer": "ipython3",
   "version": "3.10.4"
  },
  "orig_nbformat": 4,
  "vscode": {
   "interpreter": {
    "hash": "916dbcbb3f70747c44a77c7bcd40155683ae19c65e1c03b4aa3499c5328201f1"
   }
  }
 },
 "nbformat": 4,
 "nbformat_minor": 2
}
