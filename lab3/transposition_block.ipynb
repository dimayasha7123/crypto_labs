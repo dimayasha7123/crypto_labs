{
 "cells": [
  {
   "cell_type": "markdown",
   "metadata": {},
   "source": [
    "## Блок перестановки\n",
    "\n",
    "16-ричные данные перегоняются через конечный блок перестановки.\n",
    "\n",
    "На вход подается строка с 16-ричными числами длиной 16 символов.\n",
    "\n",
    "Реализуем необходимые функции:\n",
    "* функция перевода строки с 16-ричными числами в строку с двоичными числами\n",
    "* сама функция, которая применяет перестановку\n",
    "* функция перевода строки с двоичными числами в строку с 16-ричными числами"
   ]
  },
  {
   "cell_type": "code",
   "execution_count": 1,
   "metadata": {},
   "outputs": [],
   "source": [
    "def hexStrToBinStr(hexStr):\n",
    "    binStr = ''\n",
    "    for c in hexStr:\n",
    "        binStr += str(bin(int(c, 16)))[2:].zfill(4)\n",
    "    return binStr\n",
    "\n",
    "\n",
    "def transposition(binStr, transMatr):\n",
    "    binOutput = ''\n",
    "    for p in transMatr:\n",
    "        binOutput += binStr[p - 1]\n",
    "    return binOutput\n",
    "\n",
    "\n",
    "def binStrToHexStr(binStr):\n",
    "    output = ''\n",
    "    for i in range(0, len(binStr), 4):\n",
    "        output += hex(int(binStr[i: i + 4], 2))[2:].upper()\n",
    "    return output"
   ]
  },
  {
   "cell_type": "markdown",
   "metadata": {},
   "source": [
    "Протестируем:"
   ]
  },
  {
   "cell_type": "code",
   "execution_count": 2,
   "metadata": {},
   "outputs": [
    {
     "name": "stdout",
     "output_type": "stream",
     "text": [
      "Входная строка  (16-ричная): AAAABBBBCCCCDDDD\n",
      "Входная строка   (двоичная): 1010101010101010101110111011101111001100110011001101110111011101\n",
      "Выходная строка  (двоичная): 0000111101010101101010101111111100001111010101011010101011111111\n",
      "Выходная строка (16-ричная): 0F55AAFF0F55AAFF\n"
     ]
    }
   ],
   "source": [
    "trans = [40, 8, 48, 16, 56, 24, 64, 32,\n",
    "        39, 7, 47, 15, 55, 23, 63, 31,\n",
    "        38, 6, 46, 14, 54, 22, 62, 30, \n",
    "        37, 5, 45, 13, 53, 21, 61, 29,\n",
    "        36, 4, 44, 12, 52, 20, 60, 28,\n",
    "        35, 3, 43, 11, 51, 19, 59, 27,\n",
    "        34, 2, 42, 10, 50, 18, 58, 26,\n",
    "        33, 1, 41, 9, 49, 17, 57, 25]\n",
    "\n",
    "input = 'AAAABBBBCCCCDDDD'\n",
    "\n",
    "print(f'Входная строка  (16-ричная): {input}')\n",
    "\n",
    "binInput = hexStrToBinStr(input)\n",
    "print(f'Входная строка   (двоичная): {binInput}')\n",
    "\n",
    "binOutput = transposition(binInput, trans)\n",
    "print(f'Выходная строка  (двоичная): {binOutput}')\n",
    "\n",
    "output = binStrToHexStr(binOutput)\n",
    "print(f'Выходная строка (16-ричная): {output}')\n"
   ]
  }
 ],
 "metadata": {
  "interpreter": {
   "hash": "aa295b9ef15947fab0902f3d252970794a4eed9dac9372ca4a23071ba7ebc36f"
  },
  "kernelspec": {
   "display_name": "Python 3.9.6 64-bit",
   "language": "python",
   "name": "python3"
  },
  "language_info": {
   "codemirror_mode": {
    "name": "ipython",
    "version": 3
   },
   "file_extension": ".py",
   "mimetype": "text/x-python",
   "name": "python",
   "nbconvert_exporter": "python",
   "pygments_lexer": "ipython3",
   "version": "3.9.6"
  },
  "orig_nbformat": 4
 },
 "nbformat": 4,
 "nbformat_minor": 2
}
