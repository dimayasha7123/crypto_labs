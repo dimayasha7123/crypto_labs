{
 "cells": [
  {
   "cell_type": "markdown",
   "metadata": {},
   "source": [
    "### Задание №1.\n",
    "Зашифруйте сообщение \"this is exercise\", используя один из следующих шифров. Игнорируйте пробелы между словами. Расшифруйте сообщение, чтобы получать первоначальный исходный текст.\n",
    "* Аддитивный шифр с ключом = 20\n",
    "* Мультипликативный шифр с ключом = 15\n",
    "* Афинный шифр с ключом = (15, 20)"
   ]
  },
  {
   "cell_type": "markdown",
   "metadata": {},
   "source": [
    "### Решение\n",
    "Возьмем афинный шифр с ключом (15, 20)"
   ]
  },
  {
   "cell_type": "code",
   "execution_count": 15,
   "metadata": {},
   "outputs": [
    {
     "name": "stdout",
     "output_type": "stream",
     "text": [
      "thisisexercise\n",
      "tvkekecbcpykec\n",
      "thisisexercise\n"
     ]
    }
   ],
   "source": [
    "N = 26\n",
    "\n",
    "def enc_afin(str, k1, k2):\n",
    "    output = \"\"\n",
    "    for char in str:\n",
    "        #print(f\"{char} {ord(char)}\")\n",
    "        output += chr(((ord(char) - ord(\"a\")) * k1 + k2) % N + ord(\"a\"))\n",
    "    return output\n",
    "\n",
    "\n",
    "def gcdex(a, b, x, y):\n",
    "    if (a == 0):\n",
    "        return (b, 0, 1)\n",
    "    d, x1, y1 = gcdex(b % a, a, 0, 0)\n",
    "    x = y1 - (b // a) * x1\n",
    "    y = x1\n",
    "    return d, x, y\n",
    "\n",
    "def inverse_mod(a, m):\n",
    "    g, x, y = gcdex(a, m, 0, 0)\n",
    "    if (g != 1):\n",
    "        return None\n",
    "    x = (x % m + m) % m\n",
    "    return x\n",
    "\n",
    "def dec_afin(str, k1, k2):\n",
    "    output = \"\"\n",
    "    for char in str:\n",
    "        output += chr(((((ord(char) - ord(\"a\")) - k2) * inverse_mod(k1, N)) % N + N) % N + ord(\"a\"))\n",
    "    return output\n",
    "\n",
    "input = \"thisisexercise\"\n",
    "k1 = 15\n",
    "k2 = 20\n",
    "\n",
    "# print(inverse_mod(240, 521))\n",
    "# print(inverse_mod(14, 26))\n",
    "\n",
    "\n",
    "print(input)\n",
    "\n",
    "encoded = enc_afin(input, k1, k2)\n",
    "print(encoded)\n",
    "\n",
    "decoded = dec_afin(encoded, k1, k2)\n",
    "print(decoded)\n"
   ]
  },
  {
   "cell_type": "markdown",
   "metadata": {},
   "source": [
    "### Задание №2\n",
    "Зашифруйте сообщение \"the house is being sold tonight\", используя один из следующих шифров. Игнорируйте пространство между словами. Расшифруйте сообщение, чтобы получить исходный текст.\n",
    "* Шифр Виженера с ключом: \"dollars\"\n",
    "* Шифр с автоматическим ключом = 7\n",
    "* Шифр Плейфера с ключом, созданным в тексте (см. рис. 4.13)"
   ]
  },
  {
   "cell_type": "markdown",
   "metadata": {},
   "source": [
    "### Решение\n",
    "Возьмем шифр Плейфера с ключом, созданным в тексте (см. рис. 4.13).\n",
    "В данном сообщении отсутствуют подряд идущие одинаковые буквы, а также длина сообщения 26, то есть четная. Поэтому дописывать символ для четности не надо."
   ]
  },
  {
   "cell_type": "code",
   "execution_count": 14,
   "metadata": {},
   "outputs": [
    {
     "name": "stdout",
     "output_type": "stream",
     "text": [
      "thehouseisbeingsoldtonight\n",
      "wecexiohnoeifidvxbbwsirbew\n",
      "thehouseisbeingsoldtonight\n"
     ]
    }
   ],
   "source": [
    "def getCoords(char, key):\n",
    "    for j in range(0, len(key)):\n",
    "        for k in range(0, len(key[j])):\n",
    "            if key[j][k].find(char.upper()) != -1:\n",
    "                return (j, k)\n",
    "    return (-1, -1)\n",
    "\n",
    "def getChar(coord, key):\n",
    "    return key[coord[0]][coord[1]][0].lower()\n",
    "\n",
    "def enc_plfr(str, key):\n",
    "    output = \"\"\n",
    "    for i in range(0, len(str), 2):\n",
    "        first = str[i]\n",
    "        second = str[i+1]\n",
    "        firstC = getCoords(first, key)\n",
    "        secondC = getCoords(second, key)\n",
    "        newFirstC=(firstC[0], secondC[1])\n",
    "        newSecondC=(secondC[0], firstC[1])\n",
    "        if firstC[0] == secondC[0]:\n",
    "            newFirstC=(firstC[0], (firstC[1] + 1) % len(key[0]))\n",
    "            newSecondC=(secondC[0], (secondC[1] + 1) % len(key[0]))\n",
    "        elif firstC[1] == secondC[1]:\n",
    "            newFirstC=((firstC[0] + 1) % len(key), firstC[1])\n",
    "            newSecondC=((secondC[0] + 1) % len(key), secondC[1])            \n",
    "        newFirst = getChar(newFirstC, key)\n",
    "        newSecond = getChar(newSecondC, key)\n",
    "        output += newFirst + newSecond\n",
    "    return output;\n",
    "\n",
    "\n",
    "def dec_plfr(str, key):\n",
    "    output = \"\"\n",
    "    for i in range(0, len(str), 2):\n",
    "        first = str[i]\n",
    "        second = str[i+1]\n",
    "        firstC = getCoords(first, key)\n",
    "        secondC = getCoords(second, key)\n",
    "        newFirstC=(firstC[0], secondC[1])\n",
    "        newSecondC=(secondC[0], firstC[1])\n",
    "        if firstC[0] == secondC[0]:\n",
    "            newFirstC=(firstC[0], (firstC[1] - 1 + len(key[0])) % len(key[0]))\n",
    "            newSecondC=(secondC[0], (secondC[1] - 1 + len(key[0])) % len(key[0]))\n",
    "        elif firstC[1] == secondC[1]:\n",
    "            newFirstC=((firstC[0] - 1 + len(key)) % len(key), firstC[1])\n",
    "            newSecondC=((secondC[0] - 1 + len(key)) % len(key), secondC[1])            \n",
    "        newFirst = getChar(newFirstC, key)\n",
    "        newSecond = getChar(newSecondC, key)\n",
    "        output += newFirst + newSecond\n",
    "    return output;\n",
    "\n",
    "input = \"thehouseisbeingsoldtonight\"\n",
    "key =   [[\"L\", \"G\", \"D\", \"B\", \"A\"],\n",
    "         [\"Q\", \"M\", \"H\", \"E\", \"C\"],\n",
    "         [\"U\", \"R\", \"N\", \"IY\", \"F\"],\n",
    "         [\"X\", \"V\", \"S\", \"O\", \"K\"],\n",
    "         [\"Z\", \"Y\", \"W\", \"T\", \"P\"]]\n",
    "\n",
    "print(input)\n",
    "\n",
    "encoded = enc_plfr(input, key)\n",
    "print(encoded)\n",
    "\n",
    "decoded = dec_plfr(encoded, key)\n",
    "print(decoded)"
   ]
  }
 ],
 "metadata": {
  "interpreter": {
   "hash": "aa295b9ef15947fab0902f3d252970794a4eed9dac9372ca4a23071ba7ebc36f"
  },
  "kernelspec": {
   "display_name": "Python 3.9.6 64-bit",
   "language": "python",
   "name": "python3"
  },
  "language_info": {
   "codemirror_mode": {
    "name": "ipython",
    "version": 3
   },
   "file_extension": ".py",
   "mimetype": "text/x-python",
   "name": "python",
   "nbconvert_exporter": "python",
   "pygments_lexer": "ipython3",
   "version": "3.9.6"
  },
  "orig_nbformat": 4
 },
 "nbformat": 4,
 "nbformat_minor": 2
}
