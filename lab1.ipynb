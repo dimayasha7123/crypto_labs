{
 "cells": [
  {
   "cell_type": "markdown",
   "metadata": {},
   "source": [
    "### Задание №1.\n",
    "Зашифруйте сообщение *\"this is exercise\"*, используя один из следующих шифров. Игнорируйте пробелы между словами. Расшифруйте сообщение, чтобы получать первоначальный исходный текст.\n",
    "* Аддитивный шифр с ключом = 20\n",
    "* Мультипликативный шифр с ключом = 15\n",
    "* Афинный шифр с ключом = (15, 20)"
   ]
  },
  {
   "cell_type": "markdown",
   "metadata": {},
   "source": [
    "### Решение\n",
    "Возьмем афинный шифр с ключом (15, 20)"
   ]
  },
  {
   "cell_type": "code",
   "execution_count": 121,
   "metadata": {},
   "outputs": [
    {
     "name": "stdout",
     "output_type": "stream",
     "text": [
      "Исходное сообщение:\n",
      "thisisexercise\n",
      "Первый ключ: 15\n",
      "Второй ключ: 20\n",
      "Сообщение, закодированное афинным шифром:\n",
      "tvkekecbcpykec\n",
      "Сообщение, декодированные афинным шифром:\n",
      "thisisexercise\n"
     ]
    }
   ],
   "source": [
    "N = 26\n",
    "\n",
    "def enc_afin(str, k1, k2):\n",
    "    output = \"\"\n",
    "    for char in str:\n",
    "        #print(f\"{char} {ord(char)}\")\n",
    "        output += chr(((ord(char) - ord(\"a\")) * k1 + k2) % N + ord(\"a\"))\n",
    "    return output\n",
    "\n",
    "\n",
    "def gcdex(a, b, x, y):\n",
    "    if (a == 0):\n",
    "        return (b, 0, 1)\n",
    "    d, x1, y1 = gcdex(b % a, a, 0, 0)\n",
    "    x = y1 - (b // a) * x1\n",
    "    y = x1\n",
    "    return d, x, y\n",
    "\n",
    "def inverse_mod(a, m):\n",
    "    g, x, y = gcdex(a, m, 0, 0)\n",
    "    if (g != 1):\n",
    "        return None\n",
    "    x = (x % m + m) % m\n",
    "    return x\n",
    "\n",
    "def dec_afin(str, k1, k2):\n",
    "    output = \"\"\n",
    "    for char in str:\n",
    "        output += chr(((((ord(char) - ord(\"a\")) - k2) * inverse_mod(k1, N)) % N + N) % N + ord(\"a\"))\n",
    "    return output\n",
    "\n",
    "input = \"thisisexercise\"\n",
    "k1 = 15\n",
    "k2 = 20\n",
    "\n",
    "print(\"Исходное сообщение:\")\n",
    "print(input)\n",
    "\n",
    "print(f\"Первый ключ: {k1}\")\n",
    "print(f\"Второй ключ: {k2}\")\n",
    "\n",
    "encoded = enc_afin(input, k1, k2)\n",
    "print(\"Сообщение, закодированное афинным шифром:\")\n",
    "print(encoded)\n",
    "\n",
    "decoded = dec_afin(encoded, k1, k2)\n",
    "print(\"Сообщение, декодированные афинным шифром:\")\n",
    "print(decoded)\n"
   ]
  },
  {
   "cell_type": "markdown",
   "metadata": {},
   "source": [
    "### Задание №2\n",
    "Зашифруйте сообщение *\"the house is being sold tonight\"*, используя один из следующих шифров. Игнорируйте пространство между словами. Расшифруйте сообщение, чтобы получить исходный текст.\n",
    "* Шифр Виженера с ключом: *\"dollars\"*\n",
    "* Шифр с автоматическим ключом = 7\n",
    "* Шифр Плейфера с ключом, созданным в тексте (см. рис. 4.13)"
   ]
  },
  {
   "cell_type": "markdown",
   "metadata": {},
   "source": [
    "### Решение\n",
    "Возьмем шифр Плейфера с ключом, созданным в тексте (см. рис. 4.13).\n",
    "В данном сообщении отсутствуют подряд идущие одинаковые буквы, а также длина сообщения 26, то есть четная. Поэтому дописывать символ для четности не надо."
   ]
  },
  {
   "cell_type": "code",
   "execution_count": 122,
   "metadata": {},
   "outputs": [
    {
     "name": "stdout",
     "output_type": "stream",
     "text": [
      "Исходное сообщение:\n",
      "thehouseisbeingsoldtonight\n",
      "Ключ:\n",
      "[['L', 'G', 'D', 'B', 'A'], ['Q', 'M', 'H', 'E', 'C'], ['U', 'R', 'N', 'IJ', 'F'], ['X', 'V', 'S', 'O', 'K'], ['Z', 'Y', 'W', 'T', 'P']]\n",
      "Сообщение, закодированное шифром Плейфера:\n",
      "wecexiohnoeifidvxbbwsirbew\n",
      "Сообщение, декодированное шифром Плейфера:\n",
      "thehouseisbeingsoldtonight\n"
     ]
    }
   ],
   "source": [
    "def getCoords(char, key):\n",
    "    for j in range(0, len(key)):\n",
    "        for k in range(0, len(key[j])):\n",
    "            if key[j][k].find(char.upper()) != -1:\n",
    "                return (j, k)\n",
    "    return (-1, -1)\n",
    "\n",
    "def getChar(coord, key):\n",
    "    return key[coord[0]][coord[1]][0].lower()\n",
    "\n",
    "def enc_plfr(str, key):\n",
    "    output = \"\"\n",
    "    for i in range(0, len(str), 2):\n",
    "        first = str[i]\n",
    "        second = str[i+1]\n",
    "        firstC = getCoords(first, key)\n",
    "        secondC = getCoords(second, key)\n",
    "        newFirstC=(firstC[0], secondC[1])\n",
    "        newSecondC=(secondC[0], firstC[1])\n",
    "        if firstC[0] == secondC[0]:\n",
    "            newFirstC=(firstC[0], (firstC[1] + 1) % len(key[0]))\n",
    "            newSecondC=(secondC[0], (secondC[1] + 1) % len(key[0]))\n",
    "        elif firstC[1] == secondC[1]:\n",
    "            newFirstC=((firstC[0] + 1) % len(key), firstC[1])\n",
    "            newSecondC=((secondC[0] + 1) % len(key), secondC[1])            \n",
    "        newFirst = getChar(newFirstC, key)\n",
    "        newSecond = getChar(newSecondC, key)\n",
    "        output += newFirst + newSecond\n",
    "    return output;\n",
    "\n",
    "\n",
    "def dec_plfr(str, key):\n",
    "    output = \"\"\n",
    "    for i in range(0, len(str), 2):\n",
    "        first = str[i]\n",
    "        second = str[i+1]\n",
    "        firstC = getCoords(first, key)\n",
    "        secondC = getCoords(second, key)\n",
    "        newFirstC=(firstC[0], secondC[1])\n",
    "        newSecondC=(secondC[0], firstC[1])\n",
    "        if firstC[0] == secondC[0]:\n",
    "            newFirstC=(firstC[0], (firstC[1] - 1 + len(key[0])) % len(key[0]))\n",
    "            newSecondC=(secondC[0], (secondC[1] - 1 + len(key[0])) % len(key[0]))\n",
    "        elif firstC[1] == secondC[1]:\n",
    "            newFirstC=((firstC[0] - 1 + len(key)) % len(key), firstC[1])\n",
    "            newSecondC=((secondC[0] - 1 + len(key)) % len(key), secondC[1])            \n",
    "        newFirst = getChar(newFirstC, key)\n",
    "        newSecond = getChar(newSecondC, key)\n",
    "        output += newFirst + newSecond\n",
    "    return output;\n",
    "\n",
    "input = \"thehouseisbeingsoldtonight\"\n",
    "key =   [[\"L\", \"G\", \"D\", \"B\", \"A\"],\n",
    "         [\"Q\", \"M\", \"H\", \"E\", \"C\"],\n",
    "         [\"U\", \"R\", \"N\", \"IJ\", \"F\"],\n",
    "         [\"X\", \"V\", \"S\", \"O\", \"K\"],\n",
    "         [\"Z\", \"Y\", \"W\", \"T\", \"P\"]]\n",
    "\n",
    "print(\"Исходное сообщение:\")\n",
    "print(input)\n",
    "\n",
    "print(\"Ключ:\")\n",
    "print(key)\n",
    "\n",
    "encoded = enc_plfr(input, key)\n",
    "print(\"Сообщение, закодированное шифром Плейфера:\")\n",
    "print(encoded)\n",
    "\n",
    "decoded = dec_plfr(encoded, key)\n",
    "print(\"Сообщение, декодированное шифром Плейфера:\")\n",
    "print(decoded)"
   ]
  },
  {
   "cell_type": "markdown",
   "metadata": {},
   "source": [
    "### Задание №3\n",
    "Используйте шифр Виженера с ключевым словом *\"HEALTH\"*, чтобы зашифровать сообщение *\"Life is full surprises\" (\"Жизнь полна сюрпризов\")*."
   ]
  },
  {
   "cell_type": "markdown",
   "metadata": {},
   "source": [
    "### Решение"
   ]
  },
  {
   "cell_type": "code",
   "execution_count": 123,
   "metadata": {},
   "outputs": [
    {
     "name": "stdout",
     "output_type": "stream",
     "text": [
      "Исходное сообщение:\n",
      "lifeisfullofsurprises\n",
      "Ключ:\n",
      "health\n",
      "Сообщение, закодированное шифром Виженера:\n",
      "ssthdzmezojmzefsmpzog\n",
      "Сообщение, декодированное шифром Виженера:\n",
      "lifeisfullofsurprises\n"
     ]
    }
   ],
   "source": [
    "def enc_vijn(str, key):\n",
    "    output = \"\"\n",
    "    for i in range(0, len(str)):\n",
    "        output += chr( (ord(str[i]) - ord(key[i % len(key)]) - 2 * ord('a')) % N + ord('a') )\n",
    "    return output\n",
    "\n",
    "def dec_vijn(str, key):\n",
    "    output = \"\"\n",
    "    for i in range(0, len(str)):\n",
    "        output += chr( (ord(str[i]) + ord(key[i % len(key)]) + N) % N + ord('a') )\n",
    "    return output\n",
    "\n",
    "input = \"lifeisfullofsurprises\"\n",
    "key = \"health\"\n",
    "\n",
    "print(\"Исходное сообщение:\")\n",
    "print(input)\n",
    "\n",
    "print(\"Ключ:\")\n",
    "print(key)\n",
    "\n",
    "encoded = enc_vijn(input, key)\n",
    "print(\"Сообщение, закодированное шифром Виженера:\")\n",
    "print(encoded)\n",
    "\n",
    "decoded = dec_vijn(encoded, key)\n",
    "print(\"Сообщение, декодированное шифром Виженера:\")\n",
    "print(decoded)"
   ]
  },
  {
   "cell_type": "markdown",
   "metadata": {},
   "source": [
    "### Задание №4\n",
    "Используйте шифр Плейфера, чтобы зашифровать сообщение *\"The key hidden under the door pad\" (\"ключ спрятан под ковриком у двери\")*. Ключ засекречивания можно составить, заполняя первую и вторую часть строки со словом *\"GUIDANCE\"* и заполняя остальную часть матрицы с остальной частью алфавита."
   ]
  },
  {
   "cell_type": "markdown",
   "metadata": {},
   "source": [
    "### Решение\n",
    "В сообщении присутствуют одинаковые подряд идущие буквы *(\"d\" и \"o\")*, которые нужно разделить другим символом, например, *\"x\"*. Плюс длина сообщения нечетная, поэтому добавим *\"x\"* и в конец сообщения.\n",
    "\n",
    "Напишем функцию обработки строки, а так же составим ключ по строке."
   ]
  },
  {
   "cell_type": "code",
   "execution_count": 124,
   "metadata": {},
   "outputs": [
    {
     "name": "stdout",
     "output_type": "stream",
     "text": [
      "Исходное сообщение:\n",
      "thekeyishiddenunderthedoorpad\n",
      "Скорректированное сообщение:\n",
      "thekeyishidxdenunderthedoxorpadx\n",
      "Ключ:\n",
      "[['G', 'U', 'IJ', 'D', 'A'], ['N', 'C', 'E', 'B', 'F'], ['H', 'K', 'L', 'M', 'O'], ['P', 'Q', 'R', 'S', 'T'], ['V', 'W', 'X', 'Y', 'Z']]\n",
      "Сообщение, закодированное шифром Плейфера:\n",
      "poclbxdrlgiyibcgbglxpobilzlttgiy\n",
      "Сообщение, декодированное шифром Плейфера:\n",
      "thekeyishidxdenunderthedoxorpadx\n"
     ]
    }
   ],
   "source": [
    "def pred_plfr(str, symb):\n",
    "    output = \"\"\n",
    "    for i in range(0, len(str) - 1):\n",
    "        output += str[i]\n",
    "        if str[i] == str[i + 1]:\n",
    "            output += symb\n",
    "    output += str[-1]\n",
    "    if len(output) % 2 == 1:\n",
    "        output += symb\n",
    "    return output\n",
    "\n",
    "key =   [[\"G\", \"U\", \"IJ\", \"D\", \"A\"],\n",
    "         [\"N\", \"C\", \"E\", \"B\", \"F\"],\n",
    "         [\"H\", \"K\", \"L\", \"M\", \"O\"],\n",
    "         [\"P\", \"Q\", \"R\", \"S\", \"T\"],\n",
    "         [\"V\", \"W\", \"X\", \"Y\", \"Z\"]]\n",
    "\n",
    "input = \"thekeyishiddenunderthedoorpad\"\n",
    "corr_input = pred_plfr(input, \"x\")\n",
    "\n",
    "print(\"Исходное сообщение:\")\n",
    "print(input)\n",
    "\n",
    "print(\"Скорректированное сообщение:\")\n",
    "print(corr_input)\n",
    "\n",
    "print(\"Ключ:\")\n",
    "print(key)\n",
    "\n",
    "encoded = enc_plfr(corr_input, key)\n",
    "print(\"Сообщение, закодированное шифром Плейфера:\")\n",
    "print(encoded)\n",
    "\n",
    "decoded = dec_plfr(encoded, key)\n",
    "print(\"Сообщение, декодированное шифром Плейфера:\")\n",
    "print(decoded)"
   ]
  },
  {
   "cell_type": "markdown",
   "metadata": {},
   "source": [
    "### Задание №5\n",
    "\n",
    "Используйте шифр Хилла, чтобы зашифровать сообщение *\"We live in an insecure world\" (\"Мы живем в опасном мире\")*. Применять следующий ключ:\n",
    "\n",
    "K = |3 2|\n",
    "\n",
    "........|5 7| "
   ]
  },
  {
   "cell_type": "markdown",
   "metadata": {},
   "source": [
    "### Решение\n",
    "\n",
    "Подрубаем numpy, чтобы упростить взаимодействие с матрицами."
   ]
  },
  {
   "cell_type": "code",
   "execution_count": 125,
   "metadata": {},
   "outputs": [],
   "source": [
    "import numpy as np"
   ]
  },
  {
   "cell_type": "markdown",
   "metadata": {},
   "source": [
    "Для упрощения жизни не будем заниматься поиском обратной по модулю матрицы, ибо это не самая простая задача. Учитывая это, нам потребуется всего один метод, так как по сути в случае кодирования мы умножаем ключ на матрицу с исходным сообщением, а в случае декодирования мы умножаем \"обратный\" ключ на закодированное сообщение."
   ]
  },
  {
   "cell_type": "code",
   "execution_count": 126,
   "metadata": {},
   "outputs": [
    {
     "name": "stdout",
     "output_type": "stream",
     "text": [
      "Исходное сообщение:\n",
      "weliveinaninsecureworld\n",
      "Ключ:\n",
      "[[3 2]\n",
      " [5 7]]\n",
      "\"Обратный\" ключ:\n",
      "[[ 3 14]\n",
      " [ 9  5]]\n",
      "Сообщение, закодированное шифром Хилла:\n",
      "wixhtdybanybkouuhjqavgdu\n",
      "Сообщение, декодированное шифром Хилла:\n",
      "weliveinaninsecureworldx\n"
     ]
    }
   ],
   "source": [
    "def hill(str, key):\n",
    "    l = key.shape[0]\n",
    "    # размер ключа\n",
    "    if len(str) % l != 0:\n",
    "        str += \"x\" * (l - len(str) % l)\n",
    "    # дописываем \"x\" в конец сообщения, чтобы оно преобразовывалось в прямоугольную матрицу с высотой l\n",
    "    str_arr = np.asarray([ord(char) - ord('a') for char in str])\n",
    "    # перегоняем строку в np.array с кодами символов\n",
    "    str_arr.shape = (int(len(str) / l), l)\n",
    "    str_arr = str_arr.transpose()\n",
    "    # натягиваем вектор на матрицу и транспонируем её, получая нужную для умножения матрицу\n",
    "    multed = np.matmul(key, str_arr) % N\n",
    "    # перемножаем ключ и сообщение по модулю N\n",
    "    multed = multed.transpose().ravel()\n",
    "    # назад транспонируем и схлопываем в вектор нашу матрицу, чтобы получить строку\n",
    "    output = \"\".join([chr(num + ord('a')) for num in multed.tolist()])\n",
    "    # перегоняем числа в буквы и собираем из них строку\n",
    "    return output\n",
    "\n",
    "\n",
    "input = \"weliveinaninsecureworld\"\n",
    "\n",
    "key = np.array([[3, 2], \n",
    "                [5, 7]])\n",
    "\n",
    "inv_key = np.array([[3, 14],\n",
    "                    [9, 5]])\n",
    "\n",
    "print(\"Исходное сообщение:\")\n",
    "print(input)\n",
    "\n",
    "print(\"Ключ:\")\n",
    "print(key)\n",
    "\n",
    "print(\"\\\"Обратный\\\" ключ:\")\n",
    "print(inv_key)\n",
    "\n",
    "encoded = hill(input, key)\n",
    "print(\"Сообщение, закодированное шифром Хилла:\")\n",
    "print(encoded)\n",
    "\n",
    "decoded = hill(encoded, inv_key)\n",
    "print(\"Сообщение, декодированное шифром Хилла:\")\n",
    "print(decoded)"
   ]
  }
 ],
 "metadata": {
  "interpreter": {
   "hash": "aa295b9ef15947fab0902f3d252970794a4eed9dac9372ca4a23071ba7ebc36f"
  },
  "kernelspec": {
   "display_name": "Python 3.9.6 64-bit",
   "language": "python",
   "name": "python3"
  },
  "language_info": {
   "codemirror_mode": {
    "name": "ipython",
    "version": 3
   },
   "file_extension": ".py",
   "mimetype": "text/x-python",
   "name": "python",
   "nbconvert_exporter": "python",
   "pygments_lexer": "ipython3",
   "version": "3.9.6"
  },
  "orig_nbformat": 4
 },
 "nbformat": 4,
 "nbformat_minor": 2
}
