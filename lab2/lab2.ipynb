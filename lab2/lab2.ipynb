{
 "cells": [
  {
   "cell_type": "markdown",
   "metadata": {},
   "source": [
    "### Задание\n",
    "\n",
    "![Тут должна быть картинка с заданием. Если она не отобразится, то у меня 1 вариант](lab2(task).bmp)"
   ]
  },
  {
   "cell_type": "markdown",
   "metadata": {},
   "source": [
    "### Решение\n",
    "\n",
    "#### Задание 1: определить, какую информацию можно получить по криптограмме.\n",
    "\n",
    "Для красивого вывода подключаем tabulate. Далее нам еще понадобятся модуль numpy."
   ]
  },
  {
   "cell_type": "code",
   "execution_count": 1,
   "metadata": {},
   "outputs": [],
   "source": [
    "from tabulate import tabulate\n",
    "import numpy as np\n",
    "tfmt = 'github'\n",
    "ffmt = '.3f'"
   ]
  },
  {
   "cell_type": "markdown",
   "metadata": {},
   "source": [
    "Вводим исходные данные."
   ]
  },
  {
   "cell_type": "code",
   "execution_count": 2,
   "metadata": {},
   "outputs": [
    {
     "name": "stdout",
     "output_type": "stream",
     "text": [
      "Пространство сообщений (открытых текстов) M:\n",
      "x  y  z\n",
      "Вероятности выбора сообщений:\n",
      "|   x |    y |    z |\n",
      "|-----|------|------|\n",
      "| 0.5 | 0.25 | 0.25 |\n",
      "\n",
      "Пространство ключей K:\n",
      "k1  k2\n",
      "Вероятности выбора ключей:\n",
      "|        x |        y |\n",
      "|----------|----------|\n",
      "| 0.666667 | 0.333333 |\n",
      "\n",
      "Пространство криптограмм C:\n",
      "a  b  c\n",
      "Функция шифрования E(k):\n",
      "|    | x   | y   | z   |\n",
      "|----|-----|-----|-----|\n",
      "| k1 | a   | b   | a   |\n",
      "| k2 | c   | c   | b   |\n"
     ]
    }
   ],
   "source": [
    "# пространство сообщений\n",
    "m = ['x', 'y', 'z']\n",
    "mSize = len(m)\n",
    "pM = [1/2, 1/4, 1/4]\n",
    "\n",
    "print(\"Пространство сообщений (открытых текстов) M:\")\n",
    "print(tabulate([m], tablefmt='plain'))\n",
    "\n",
    "print(\"Вероятности выбора сообщений:\")\n",
    "print(tabulate([pM], headers=m, tablefmt=tfmt))\n",
    "\n",
    "# пространство ключей\n",
    "k = ['k1', 'k2', 'k3']\n",
    "kSize = len(k)\n",
    "pK = [1/4, 3/8, 3/8]\n",
    "\n",
    "print()\n",
    "print(\"Пространство ключей K:\")\n",
    "print(tabulate([k], tablefmt='plain'))\n",
    "\n",
    "print(\"Вероятности выбора ключей:\")\n",
    "print(tabulate([pK], headers=m, tablefmt=tfmt))\n",
    "\n",
    "# пространство криптограмм\n",
    "c = ['a', 'b', 'c']\n",
    "cSize = len(c)\n",
    "func = [['a', 'b', 'a'],\n",
    "        ['c', 'b', 'c'],\n",
    "        ['a', 'a', 'b']]\n",
    "\n",
    "print()\n",
    "print(\"Пространство криптограмм C:\")\n",
    "print(tabulate([c], tablefmt='plain'))\n",
    "\n",
    "print(\"Функция шифрования E(k):\")\n",
    "print(tabulate(func, headers=m, showindex=k, tablefmt=tfmt))"
   ]
  },
  {
   "cell_type": "markdown",
   "metadata": {},
   "source": [
    "Далее находим нужные вероятности по методичке."
   ]
  },
  {
   "cell_type": "code",
   "execution_count": 3,
   "metadata": {},
   "outputs": [
    {
     "name": "stdout",
     "output_type": "stream",
     "text": [
      "\n",
      "Распределение вероятностей на С:\n",
      "|     a |     b |     c |\n",
      "|-------|-------|-------|\n",
      "| 0.500 | 0.250 | 0.250 |\n",
      "\n",
      "Вероятность выбора шифротекста С при известном открытом тексте M:\n",
      "|    |     a |     b |     c |\n",
      "|----|-------|-------|-------|\n",
      "| x  | 0.667 | 0.000 | 0.333 |\n",
      "| y  | 0.000 | 0.667 | 0.333 |\n",
      "| z  | 0.667 | 0.333 | 0.000 |\n",
      "\n",
      "Вероятность открытых текстов M при данных шифртекстах C:\n",
      "|    |     x |     y |     z |\n",
      "|----|-------|-------|-------|\n",
      "| a  | 0.667 | 0.000 | 0.333 |\n",
      "| b  | 0.000 | 0.667 | 0.333 |\n",
      "| c  | 0.667 | 0.333 | 0.000 |\n"
     ]
    }
   ],
   "source": [
    "pC = [0] * cSize\n",
    "for i in range(0, kSize):\n",
    "    for j in range(0, mSize):\n",
    "        pC[c.index(func[i][j])] += pK[i] * pM[j]\n",
    "\n",
    "print()\n",
    "print(\"Распределение вероятностей на С:\")\n",
    "print(tabulate([pC], headers=c, tablefmt=tfmt, floatfmt=ffmt))\n",
    "\n",
    "pCM = list() # помогите, я не умею нормально задавать пустые матрицы\n",
    "for i in range(0, mSize):\n",
    "    pCM.append(list())\n",
    "    for j in range(0, cSize):\n",
    "        pCM[i].append(0)\n",
    "\n",
    "for i in range(0, kSize):\n",
    "    for j in range(0, mSize):\n",
    "        pCM[j][c.index(func[i][j])] += pK[i]\n",
    "\n",
    "print()\n",
    "print(\"Вероятность выбора шифротекста С при известном открытом тексте M:\")\n",
    "print(tabulate(pCM, headers=c, showindex=m, tablefmt=tfmt, floatfmt=ffmt))\n",
    "\n",
    "pMC = list()\n",
    "for i in range(0, cSize):\n",
    "    pMC.append(list())\n",
    "    for j in range(0, mSize):\n",
    "        pMC[i].append(0)\n",
    "        pMC[i][j] = pM[j] * pCM[j][i] / pC[i]\n",
    "\n",
    "print()\n",
    "print(\"Вероятность открытых текстов M при данных шифртекстах C:\")\n",
    "print(tabulate(pMC, headers=m, showindex=c, tablefmt=tfmt, floatfmt=ffmt))"
   ]
  },
  {
   "cell_type": "markdown",
   "metadata": {},
   "source": [
    "Анализируя полученные результаты, приходим к следующим выводам:\n",
    "* если мы получаем шифртекст *a*, то более вероятно, что соответствующий открытый текст - *x*, чем *y* или *z*\n",
    "* по полученному шифртексту *b* можно сказать, что исходное сообщение - точно не *x*, а вероятнее *y*, реже - *z*\n",
    "* шифртекст *c* позволяет сделать вывод, что сообщение не являлось *y*, а было скорее всего *x*, реже - *z*"
   ]
  },
  {
   "cell_type": "markdown",
   "metadata": {},
   "source": [
    "#### Задание 2: найти энтропии для каждого из пространств.\n",
    "\n",
    "Легко находим энтропию по данной в методичке формуле."
   ]
  },
  {
   "cell_type": "code",
   "execution_count": 4,
   "metadata": {},
   "outputs": [
    {
     "name": "stdout",
     "output_type": "stream",
     "text": [
      "|   H(M) |   H(K) |   H(C) |\n",
      "|--------|--------|--------|\n",
      "|  1.500 |  0.918 |  1.500 |\n"
     ]
    }
   ],
   "source": [
    "spacesNames = ['H(M)', 'H(K)', 'H(C)']\n",
    "spaces = [np.array(s) for s in [pM, pK, pC]]\n",
    "entropy = [(-1) * np.sum(s * np.log2(s)) for s in spaces]\n",
    "print(tabulate([entropy], headers=spacesNames, tablefmt=tfmt, floatfmt=ffmt))"
   ]
  },
  {
   "cell_type": "markdown",
   "metadata": {},
   "source": [
    "Энтропия каждого из пространств примерно равна 1.5. Следовательно, \"утекает\" примерно 1.5 бита информации о ключе и соответствующем открытом тексте. "
   ]
  },
  {
   "cell_type": "markdown",
   "metadata": {},
   "source": [
    "#### Задание 3: найти неопределенность ключа и сделать вывод.\n",
    "\n",
    "Неопределенность ключа - величина *H(K|C)*. Находится она по формуле *H(K|C) = H(M) + H(K) - H(C)*."
   ]
  },
  {
   "cell_type": "code",
   "execution_count": 5,
   "metadata": {},
   "outputs": [
    {
     "name": "stdout",
     "output_type": "stream",
     "text": [
      "H(K|C) = 0.9182958340544896\n"
     ]
    }
   ],
   "source": [
    "print(f\"H(K|C) = {entropy[0] + entropy[1] - entropy[2]}\")"
   ]
  },
  {
   "cell_type": "markdown",
   "metadata": {},
   "source": [
    "У меня проблемы с выводом. У вас в методичке H(C) > H(K|C) и все сходится. А у меня вроде как наоборот получилось.\n",
    "\n",
    "H(C)   = 1.527\n",
    "\n",
    "H(K|C) = 1.534\n",
    "\n",
    "Не понятно - нормально это или нет. И непонятно, что писать."
   ]
  }
 ],
 "metadata": {
  "kernelspec": {
   "display_name": "Python 3.10.4 64-bit",
   "language": "python",
   "name": "python3"
  },
  "language_info": {
   "codemirror_mode": {
    "name": "ipython",
    "version": 3
   },
   "file_extension": ".py",
   "mimetype": "text/x-python",
   "name": "python",
   "nbconvert_exporter": "python",
   "pygments_lexer": "ipython3",
   "version": "3.10.4"
  },
  "orig_nbformat": 4,
  "vscode": {
   "interpreter": {
    "hash": "916dbcbb3f70747c44a77c7bcd40155683ae19c65e1c03b4aa3499c5328201f1"
   }
  }
 },
 "nbformat": 4,
 "nbformat_minor": 2
}
